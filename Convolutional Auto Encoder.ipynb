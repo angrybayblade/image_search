{
 "cells": [
  {
   "cell_type": "code",
   "execution_count": 1,
   "metadata": {},
   "outputs": [],
   "source": [
    "import matplotlib.pyplot as plt\n",
    "import utils\n",
    "import tensorflow.keras as keras\n",
    "\n",
    "from tensorflow.keras.layers import *\n",
    "\n",
    "%matplotlib inline"
   ]
  },
  {
   "cell_type": "code",
   "execution_count": 2,
   "metadata": {},
   "outputs": [],
   "source": [
    "images = utils.get_data()"
   ]
  },
  {
   "cell_type": "code",
   "execution_count": 3,
   "metadata": {},
   "outputs": [
    {
     "data": {
      "text/plain": [
       "(70000, 784)"
      ]
     },
     "execution_count": 3,
     "metadata": {},
     "output_type": "execute_result"
    }
   ],
   "source": [
    "images.shape"
   ]
  },
  {
   "cell_type": "code",
   "execution_count": 4,
   "metadata": {},
   "outputs": [],
   "source": [
    "images = images.reshape(-1,28,28,1)"
   ]
  },
  {
   "cell_type": "code",
   "execution_count": 5,
   "metadata": {},
   "outputs": [
    {
     "data": {
      "text/plain": [
       "<matplotlib.image.AxesImage at 0x16e1865ce48>"
      ]
     },
     "execution_count": 5,
     "metadata": {},
     "output_type": "execute_result"
    },
    {
     "data": {
      "image/png": "[encoded data removed]",
      "text/plain": [
       "<Figure size 432x288 with 1 Axes>"
      ]
     },
     "metadata": {
      "needs_background": "light"
     },
     "output_type": "display_data"
    }
   ],
   "source": [
    "plt.imshow(images[0].reshape(28,28))"
   ]
  },
  {
   "cell_type": "code",
   "execution_count": 6,
   "metadata": {},
   "outputs": [],
   "source": [
    "inputs = Input(shape=(28,28,1))\n",
    "\n",
    "enc = Conv2D(32,3,activation=\"relu\",padding=\"same\")(inputs)\n",
    "enc = MaxPool2D()(enc)\n",
    "enc = Conv2D(48,3,activation=\"linear\",padding=\"same\")(enc)\n",
    "enc = MaxPool2D()(enc)\n",
    "\n",
    "dense = Flatten()(enc)\n",
    "dense = Dense(256,activation=\"relu\")(dense)\n",
    "encodings = Dense(128,activation=\"linear\")(dense)\n",
    "dense = Dense(256,activation=\"relu\")(encodings)\n",
    "dense = Dense(1176)(dense)\n",
    "dense = Reshape((7,7,24))(dense)\n",
    "\n",
    "dec = UpSampling2D()(dense)\n",
    "dec = BatchNormalization()(dec)\n",
    "dec = Conv2D(48,3,activation=\"linear\",padding=\"same\")(dec)\n",
    "dec = UpSampling2D()(dec)\n",
    "dec = BatchNormalization()(dec)\n",
    "dec = Conv2D(32,3,activation=\"relu\",padding=\"same\")(dec)\n",
    "dec = Conv2D(1,4,activation=\"sigmoid\",padding=\"same\")(dec)\n",
    "\n",
    "model = keras.Model(inputs,dec)\n",
    "encoder = keras.Model(inputs,encodings)"
   ]
  },
  {
   "cell_type": "code",
   "execution_count": 7,
   "metadata": {},
   "outputs": [
    {
     "data": {
      "text/plain": [
       "<tensorflow.python.training.tracking.util.CheckpointLoadStatus at 0x16e13ae9470>"
      ]
     },
     "execution_count": 7,
     "metadata": {},
     "output_type": "execute_result"
    }
   ],
   "source": [
    "model.load_weights(\"weights/models/conv_autoencoder/autoencoder\")"
   ]
  },
  {
   "cell_type": "code",
   "execution_count": 8,
   "metadata": {},
   "outputs": [
    {
     "name": "stdout",
     "output_type": "stream",
     "text": [
      "Model: \"model\"\n",
      "_________________________________________________________________\n",
      "Layer (type)                 Output Shape              Param #   \n",
      "=================================================================\n",
      "input_1 (InputLayer)         [(None, 28, 28, 1)]       0         \n",
      "_________________________________________________________________\n",
      "conv2d (Conv2D)              (None, 28, 28, 32)        320       \n",
      "_________________________________________________________________\n",
      "max_pooling2d (MaxPooling2D) (None, 14, 14, 32)        0         \n",
      "_________________________________________________________________\n",
      "conv2d_1 (Conv2D)            (None, 14, 14, 48)        13872     \n",
      "_________________________________________________________________\n",
      "max_pooling2d_1 (MaxPooling2 (None, 7, 7, 48)          0         \n",
      "_________________________________________________________________\n",
      "flatten (Flatten)            (None, 2352)              0         \n",
      "_________________________________________________________________\n",
      "dense (Dense)                (None, 256)               602368    \n",
      "_________________________________________________________________\n",
      "dense_1 (Dense)              (None, 128)               32896     \n",
      "_________________________________________________________________\n",
      "dense_2 (Dense)              (None, 256)               33024     \n",
      "_________________________________________________________________\n",
      "dense_3 (Dense)              (None, 1176)              302232    \n",
      "_________________________________________________________________\n",
      "reshape (Reshape)            (None, 7, 7, 24)          0         \n",
      "_________________________________________________________________\n",
      "up_sampling2d (UpSampling2D) (None, 14, 14, 24)        0         \n",
      "_________________________________________________________________\n",
      "batch_normalization (BatchNo (None, 14, 14, 24)        96        \n",
      "_________________________________________________________________\n",
      "conv2d_2 (Conv2D)            (None, 14, 14, 48)        10416     \n",
      "_________________________________________________________________\n",
      "up_sampling2d_1 (UpSampling2 (None, 28, 28, 48)        0         \n",
      "_________________________________________________________________\n",
      "batch_normalization_1 (Batch (None, 28, 28, 48)        192       \n",
      "_________________________________________________________________\n",
      "conv2d_3 (Conv2D)            (None, 28, 28, 32)        13856     \n",
      "_________________________________________________________________\n",
      "conv2d_4 (Conv2D)            (None, 28, 28, 1)         513       \n",
      "=================================================================\n",
      "Total params: 1,009,785\n",
      "Trainable params: 1,009,641\n",
      "Non-trainable params: 144\n",
      "_________________________________________________________________\n"
     ]
    }
   ],
   "source": [
    "model.summary()"
   ]
  },
  {
   "cell_type": "code",
   "execution_count": 9,
   "metadata": {},
   "outputs": [
    {
     "name": "stdout",
     "output_type": "stream",
     "text": [
      "Model: \"model_1\"\n",
      "_________________________________________________________________\n",
      "Layer (type)                 Output Shape              Param #   \n",
      "=================================================================\n",
      "input_1 (InputLayer)         [(None, 28, 28, 1)]       0         \n",
      "_________________________________________________________________\n",
      "conv2d (Conv2D)              (None, 28, 28, 32)        320       \n",
      "_________________________________________________________________\n",
      "max_pooling2d (MaxPooling2D) (None, 14, 14, 32)        0         \n",
      "_________________________________________________________________\n",
      "conv2d_1 (Conv2D)            (None, 14, 14, 48)        13872     \n",
      "_________________________________________________________________\n",
      "max_pooling2d_1 (MaxPooling2 (None, 7, 7, 48)          0         \n",
      "_________________________________________________________________\n",
      "flatten (Flatten)            (None, 2352)              0         \n",
      "_________________________________________________________________\n",
      "dense (Dense)                (None, 256)               602368    \n",
      "_________________________________________________________________\n",
      "dense_1 (Dense)              (None, 128)               32896     \n",
      "=================================================================\n",
      "Total params: 649,456\n",
      "Trainable params: 649,456\n",
      "Non-trainable params: 0\n",
      "_________________________________________________________________\n"
     ]
    }
   ],
   "source": [
    "encoder.summary()"
   ]
  },
  {
   "cell_type": "code",
   "execution_count": 31,
   "metadata": {
    "scrolled": true
   },
   "outputs": [
    {
     "name": "stdout",
     "output_type": "stream",
     "text": [
      "Train on 70000 samples\n",
      "Epoch 1/5\n",
      "70000/70000 [==============================] - 11s 159us/sample - loss: 0.0023\n",
      "Epoch 2/5\n",
      "70000/70000 [==============================] - 11s 159us/sample - loss: 0.0021\n",
      "Epoch 3/5\n",
      "70000/70000 [==============================] - 13s 184us/sample - loss: 0.0021\n",
      "Epoch 4/5\n",
      "70000/70000 [==============================] - 14s 198us/sample - loss: 0.0021\n",
      "Epoch 5/5\n",
      "70000/70000 [==============================] - 16s 234us/sample - loss: 0.0020\n"
     ]
    },
    {
     "data": {
      "text/plain": [
       "<tensorflow.python.keras.callbacks.History at 0x16fe2c32320>"
      ]
     },
     "execution_count": 31,
     "metadata": {},
     "output_type": "execute_result"
    }
   ],
   "source": [
    "model.compile(optimizer=\"adam\",loss='mse')\n",
    "model.fit(images,images,batch_size=128,epochs=5)"
   ]
  },
  {
   "cell_type": "code",
   "execution_count": 32,
   "metadata": {},
   "outputs": [
    {
     "data": {
      "text/plain": [
       "(-0.5, 27.5, 27.5, -0.5)"
      ]
     },
     "execution_count": 32,
     "metadata": {},
     "output_type": "execute_result"
    },
    {
     "data": {
      "image/png": "[encoded data removed]",
      "text/plain": [
       "<Figure size 720x360 with 2 Axes>"
      ]
     },
     "metadata": {
      "needs_background": "light"
     },
     "output_type": "display_data"
    }
   ],
   "source": [
    "img = images[3].reshape(28,28)\n",
    "\n",
    "pred = model.predict(img.reshape(1,28,28,1)).reshape(28,28)\n",
    "fig,axes = plt.subplots(1,2,figsize=(10,5))\n",
    "\n",
    "axes[0].imshow(img.reshape(28,28))\n",
    "axes[0].set_title(\"Original\") \n",
    "axes[0].axis(\"off\")\n",
    "\n",
    "axes[1].imshow(pred)\n",
    "axes[1].set_title(\"Re Constructed\")\n",
    "axes[1].axis(\"off\")"
   ]
  },
  {
   "cell_type": "code",
   "execution_count": 33,
   "metadata": {},
   "outputs": [],
   "source": [
    "model.save_weights(\"weights/models/conv_autoencoder/autoencoder\")\n",
    "encoder.save_weights(\"weights/models/conv_autoencoder/encoder\")"
   ]
  }
 ],
 "metadata": {
  "kernelspec": {
   "display_name": "Python 3.6.8 64-bit",
   "language": "python",
   "name": "python36864bit658b69a901b345d88333899947301b6d"
  },
  "language_info": {
   "codemirror_mode": {
    "name": "ipython",
    "version": 3
   },
   "file_extension": ".py",
   "mimetype": "text/x-python",
   "name": "python",
   "nbconvert_exporter": "python",
   "pygments_lexer": "ipython3",
   "version": "3.6.8"
  }
 },
 "nbformat": 4,
 "nbformat_minor": 4
}
