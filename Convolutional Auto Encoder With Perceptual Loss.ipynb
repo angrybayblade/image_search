{
 "cells": [
  {
   "cell_type": "code",
   "execution_count": 2,
   "metadata": {},
   "outputs": [],
   "source": [
    "import matplotlib.pyplot as plt\n",
    "import utils\n",
    "import tensorflow.keras as keras\n",
    "import numpy as np\n",
    "\n",
    "from tensorflow.keras.layers import *\n",
    "\n",
    "%matplotlib inline"
   ]
  },
  {
   "cell_type": "code",
   "execution_count": 3,
   "metadata": {},
   "outputs": [],
   "source": [
    "images = utils.get_data()"
   ]
  },
  {
   "cell_type": "code",
   "execution_count": 4,
   "metadata": {},
   "outputs": [
    {
     "data": {
      "text/plain": [
       "(70000, 784)"
      ]
     },
     "execution_count": 4,
     "metadata": {},
     "output_type": "execute_result"
    }
   ],
   "source": [
    "images.shape"
   ]
  },
  {
   "cell_type": "code",
   "execution_count": 5,
   "metadata": {},
   "outputs": [],
   "source": [
    "images = images.reshape(-1,28,28,1)"
   ]
  },
  {
   "cell_type": "code",
   "execution_count": 6,
   "metadata": {},
   "outputs": [
    {
     "data": {
      "text/plain": [
       "<matplotlib.image.AxesImage at 0x23e1485b400>"
      ]
     },
     "execution_count": 6,
     "metadata": {},
     "output_type": "execute_result"
    },
    {
     "data": {
      "image/png": "[encoded data removed]",
      "text/plain": [
       "<Figure size 432x288 with 1 Axes>"
      ]
     },
     "metadata": {
      "needs_background": "light"
     },
     "output_type": "display_data"
    }
   ],
   "source": [
    "plt.imshow(images[0].reshape(28,28))"
   ]
  },
  {
   "cell_type": "markdown",
   "metadata": {},
   "source": [
    "### Creating Base Network For Visual Loss"
   ]
  },
  {
   "cell_type": "code",
   "execution_count": 7,
   "metadata": {},
   "outputs": [],
   "source": [
    "(X,Y),(x,y) = keras.datasets.mnist.load_data()\n",
    "\n",
    "X = X.reshape(-1,28,28,1) / 255.\n",
    "x = x.reshape(-1,28,28,1) / 255.\n",
    "\n",
    "Y = keras.utils.to_categorical(Y)\n",
    "y = keras.utils.to_categorical(y)"
   ]
  },
  {
   "cell_type": "code",
   "execution_count": 8,
   "metadata": {},
   "outputs": [
    {
     "data": {
      "text/plain": [
       "((60000, 28, 28, 1), (10000, 28, 28, 1), (60000, 10), (10000, 10))"
      ]
     },
     "execution_count": 8,
     "metadata": {},
     "output_type": "execute_result"
    }
   ],
   "source": [
    "X.shape,x.shape,Y.shape,y.shape"
   ]
  },
  {
   "cell_type": "code",
   "execution_count": 9,
   "metadata": {},
   "outputs": [],
   "source": [
    "loss_input = Input(shape=(28,28,1))\n",
    "\n",
    "loss_conv = Conv2D(32,3,activation=\"relu\")(loss_input)\n",
    "loss_conv = Conv2D(64,3,activation=\"relu\")(loss_conv)\n",
    "loss_pool = MaxPool2D()(loss_conv)\n",
    "loss_conv = Conv2D(128,2,activation=\"relu\")(loss_pool)\n",
    "loss_enc = BatchNormalization()(loss_conv)\n",
    "loss_flatten = Flatten()(loss_enc)\n",
    "loss_dense = Dense(512,activation=\"relu\")(loss_flatten)\n",
    "loss_out = Dense(10,activation=\"softmax\")(loss_dense)\n",
    "\n",
    "loss_train = keras.Model(loss_input,loss_out)\n",
    "loss_enc = keras.Model(loss_input,loss_enc)"
   ]
  },
  {
   "cell_type": "code",
   "execution_count": 10,
   "metadata": {},
   "outputs": [
    {
     "data": {
      "text/plain": [
       "<tensorflow.python.training.tracking.util.CheckpointLoadStatus at 0x23e77849b70>"
      ]
     },
     "execution_count": 10,
     "metadata": {},
     "output_type": "execute_result"
    }
   ],
   "source": [
    "loss_train.load_weights(\"weights/models/conv_autoencoder_with_perceptual_loss/loss_model\")"
   ]
  },
  {
   "cell_type": "code",
   "execution_count": 11,
   "metadata": {},
   "outputs": [],
   "source": [
    "loss_train.compile(optimizer=\"adam\",loss=\"categorical_crossentropy\",metrics=['accuracy'])"
   ]
  },
  {
   "cell_type": "code",
   "execution_count": 12,
   "metadata": {},
   "outputs": [
    {
     "name": "stdout",
     "output_type": "stream",
     "text": [
      "Train on 60000 samples, validate on 10000 samples\n",
      "Epoch 1/5\n",
      "60000/60000 [==============================] - 10s 168us/sample - loss: 0.0100 - accuracy: 0.9968 - val_loss: 0.0493 - val_accuracy: 0.9875\n",
      "Epoch 2/5\n",
      "60000/60000 [==============================] - 9s 154us/sample - loss: 0.0106 - accuracy: 0.9966 - val_loss: 0.0640 - val_accuracy: 0.9849\n",
      "Epoch 3/5\n",
      "60000/60000 [==============================] - 11s 176us/sample - loss: 0.0078 - accuracy: 0.9977 - val_loss: 0.0589 - val_accuracy: 0.9865\n",
      "Epoch 4/5\n",
      "60000/60000 [==============================] - 12s 192us/sample - loss: 0.0065 - accuracy: 0.9980 - val_loss: 0.0461 - val_accuracy: 0.9888\n",
      "Epoch 5/5\n",
      "60000/60000 [==============================] - 13s 219us/sample - loss: 0.0034 - accuracy: 0.9989 - val_loss: 0.1109 - val_accuracy: 0.9809\n"
     ]
    },
    {
     "data": {
      "text/plain": [
       "<tensorflow.python.keras.callbacks.History at 0x23e77d1f5c0>"
      ]
     },
     "execution_count": 12,
     "metadata": {},
     "output_type": "execute_result"
    }
   ],
   "source": [
    "loss_train.fit(X,Y,batch_size=256,epochs=5,validation_data=(x,y))"
   ]
  },
  {
   "cell_type": "code",
   "execution_count": 13,
   "metadata": {},
   "outputs": [],
   "source": [
    "loss_train.save_weights(\"weights/models/conv_autoencoder_with_perceptual_loss/loss_model\")"
   ]
  },
  {
   "cell_type": "markdown",
   "metadata": {},
   "source": [
    "### Defining loss"
   ]
  },
  {
   "cell_type": "code",
   "execution_count": 14,
   "metadata": {},
   "outputs": [],
   "source": [
    "def visual_loss(y_true,y_pred):\n",
    "    y_true = loss_enc(y_true)\n",
    "    y_pred = loss_enc(y_pred)\n",
    "    return keras.losses.mse(y_true,y_pred)"
   ]
  },
  {
   "cell_type": "code",
   "execution_count": 15,
   "metadata": {},
   "outputs": [],
   "source": [
    "inputs = Input(shape=(28,28,1))\n",
    "\n",
    "enc = Conv2D(32,3,activation=\"relu\",padding=\"same\")(inputs)\n",
    "enc = MaxPool2D()(enc)\n",
    "enc = Conv2D(48,3,activation=\"linear\",padding=\"same\")(enc)\n",
    "enc = MaxPool2D()(enc)\n",
    "enc = BatchNormalization()(enc)\n",
    "\n",
    "dense = Flatten()(enc)\n",
    "dense = Dense(512,activation=\"relu\")(dense)\n",
    "encodings = Dense(128,activation=\"linear\")(dense)\n",
    "dense = Dense(512,activation=\"relu\")(encodings)\n",
    "dense = Dense(2352)(dense)\n",
    "dense = Reshape((7,7,48))(dense)\n",
    "\n",
    "dec = UpSampling2D()(dense)\n",
    "dec = Conv2D(48,3,activation=\"linear\",padding=\"same\")(dec)\n",
    "dec = UpSampling2D()(dec)\n",
    "dec = BatchNormalization()(dec)\n",
    "dec = Conv2D(32,3,activation=\"relu\",padding=\"same\")(dec)\n",
    "dec = BatchNormalization()(dec)\n",
    "dec = Conv2D(1,4,activation=\"sigmoid\",padding=\"same\")(dec)\n",
    "\n",
    "model = keras.Model(inputs,dec)\n",
    "encoder = keras.Model(inputs,encodings)"
   ]
  },
  {
   "cell_type": "code",
   "execution_count": 17,
   "metadata": {},
   "outputs": [
    {
     "name": "stdout",
     "output_type": "stream",
     "text": [
      "Model: \"model_2\"\n",
      "_________________________________________________________________\n",
      "Layer (type)                 Output Shape              Param #   \n",
      "=================================================================\n",
      "input_2 (InputLayer)         [(None, 28, 28, 1)]       0         \n",
      "_________________________________________________________________\n",
      "conv2d_3 (Conv2D)            (None, 28, 28, 32)        320       \n",
      "_________________________________________________________________\n",
      "max_pooling2d_1 (MaxPooling2 (None, 14, 14, 32)        0         \n",
      "_________________________________________________________________\n",
      "conv2d_4 (Conv2D)            (None, 14, 14, 48)        13872     \n",
      "_________________________________________________________________\n",
      "max_pooling2d_2 (MaxPooling2 (None, 7, 7, 48)          0         \n",
      "_________________________________________________________________\n",
      "batch_normalization_1 (Batch (None, 7, 7, 48)          192       \n",
      "_________________________________________________________________\n",
      "flatten_1 (Flatten)          (None, 2352)              0         \n",
      "_________________________________________________________________\n",
      "dense_2 (Dense)              (None, 512)               1204736   \n",
      "_________________________________________________________________\n",
      "dense_3 (Dense)              (None, 128)               65664     \n",
      "_________________________________________________________________\n",
      "dense_4 (Dense)              (None, 512)               66048     \n",
      "_________________________________________________________________\n",
      "dense_5 (Dense)              (None, 2352)              1206576   \n",
      "_________________________________________________________________\n",
      "reshape (Reshape)            (None, 7, 7, 48)          0         \n",
      "_________________________________________________________________\n",
      "up_sampling2d (UpSampling2D) (None, 14, 14, 48)        0         \n",
      "_________________________________________________________________\n",
      "conv2d_5 (Conv2D)            (None, 14, 14, 48)        20784     \n",
      "_________________________________________________________________\n",
      "up_sampling2d_1 (UpSampling2 (None, 28, 28, 48)        0         \n",
      "_________________________________________________________________\n",
      "batch_normalization_2 (Batch (None, 28, 28, 48)        192       \n",
      "_________________________________________________________________\n",
      "conv2d_6 (Conv2D)            (None, 28, 28, 32)        13856     \n",
      "_________________________________________________________________\n",
      "batch_normalization_3 (Batch (None, 28, 28, 32)        128       \n",
      "_________________________________________________________________\n",
      "conv2d_7 (Conv2D)            (None, 28, 28, 1)         513       \n",
      "=================================================================\n",
      "Total params: 2,592,881\n",
      "Trainable params: 2,592,625\n",
      "Non-trainable params: 256\n",
      "_________________________________________________________________\n"
     ]
    }
   ],
   "source": [
    "model.summary()"
   ]
  },
  {
   "cell_type": "code",
   "execution_count": 107,
   "metadata": {},
   "outputs": [
    {
     "name": "stdout",
     "output_type": "stream",
     "text": [
      "Model: \"model_13\"\n",
      "_________________________________________________________________\n",
      "Layer (type)                 Output Shape              Param #   \n",
      "=================================================================\n",
      "input_7 (InputLayer)         [(None, 28, 28, 1)]       0         \n",
      "_________________________________________________________________\n",
      "conv2d_24 (Conv2D)           (None, 28, 28, 32)        320       \n",
      "_________________________________________________________________\n",
      "max_pooling2d_9 (MaxPooling2 (None, 14, 14, 32)        0         \n",
      "_________________________________________________________________\n",
      "conv2d_25 (Conv2D)           (None, 14, 14, 48)        13872     \n",
      "_________________________________________________________________\n",
      "max_pooling2d_10 (MaxPooling (None, 7, 7, 48)          0         \n",
      "_________________________________________________________________\n",
      "batch_normalization_13 (Batc (None, 7, 7, 48)          192       \n",
      "_________________________________________________________________\n",
      "flatten_6 (Flatten)          (None, 2352)              0         \n",
      "_________________________________________________________________\n",
      "dense_20 (Dense)             (None, 512)               1204736   \n",
      "_________________________________________________________________\n",
      "dense_21 (Dense)             (None, 128)               65664     \n",
      "=================================================================\n",
      "Total params: 1,284,784\n",
      "Trainable params: 1,284,688\n",
      "Non-trainable params: 96\n",
      "_________________________________________________________________\n"
     ]
    }
   ],
   "source": [
    "encoder.summary()"
   ]
  },
  {
   "cell_type": "code",
   "execution_count": 18,
   "metadata": {},
   "outputs": [
    {
     "data": {
      "text/plain": [
       "<tensorflow.python.training.tracking.util.CheckpointLoadStatus at 0x23e129eda20>"
      ]
     },
     "execution_count": 18,
     "metadata": {},
     "output_type": "execute_result"
    }
   ],
   "source": [
    "model.load_weights(\"weights/models/conv_autoencoder_with_perceptual_loss/autoencoder\")"
   ]
  },
  {
   "cell_type": "code",
   "execution_count": 109,
   "metadata": {},
   "outputs": [],
   "source": [
    "model.compile(optimizer=\"adam\",loss=visual_loss)"
   ]
  },
  {
   "cell_type": "code",
   "execution_count": 133,
   "metadata": {
    "scrolled": false
   },
   "outputs": [
    {
     "name": "stdout",
     "output_type": "stream",
     "text": [
      "Train on 70000 samples\n",
      "Epoch 1/2\n",
      "70000/70000 [==============================] - 37s 525us/sample - loss: 0.0058\n",
      "Epoch 2/2\n",
      "70000/70000 [==============================] - 37s 531us/sample - loss: 0.0052\n"
     ]
    },
    {
     "data": {
      "text/plain": [
       "<tensorflow.python.keras.callbacks.History at 0x248fdff9390>"
      ]
     },
     "execution_count": 133,
     "metadata": {},
     "output_type": "execute_result"
    }
   ],
   "source": [
    "model.fit(images,images,batch_size=1024,epochs=2)"
   ]
  },
  {
   "cell_type": "code",
   "execution_count": 163,
   "metadata": {},
   "outputs": [],
   "source": [
    "model.save_weights(\"weights/models/conv_autoencoder_with_perceptual_loss/autoencoder\")\n",
    "encoder.save_weights(\"weights/models/conv_autoencoder_with_perceptual_loss/encoder\")"
   ]
  },
  {
   "cell_type": "code",
   "execution_count": 237,
   "metadata": {},
   "outputs": [
    {
     "data": {
      "text/plain": [
       "(-0.5, 27.5, 27.5, -0.5)"
      ]
     },
     "execution_count": 237,
     "metadata": {},
     "output_type": "execute_result"
    },
    {
     "data": {
      "image/png": "[encoded data removed]",
      "text/plain": [
       "<Figure size 720x360 with 2 Axes>"
      ]
     },
     "metadata": {
      "needs_background": "light"
     },
     "output_type": "display_data"
    }
   ],
   "source": [
    "img = images[np.random.randint(images.shape[0])].reshape(28,28)#\n",
    "pred = model.predict(img.reshape(1,28,28,1)).reshape(28,28)\n",
    "\n",
    "fig,axes = plt.subplots(1,2,figsize=(10,5))\n",
    "\n",
    "axes[0].imshow(img.reshape(28,28))\n",
    "axes[0].set_title(\"Original\") \n",
    "axes[0].axis(\"off\")\n",
    "\n",
    "axes[1].imshow(pred)\n",
    "axes[1].set_title(\"Re Constructed\")\n",
    "axes[1].axis(\"off\")"
   ]
  },
  {
   "cell_type": "code",
   "execution_count": null,
   "metadata": {},
   "outputs": [],
   "source": []
  }
 ],
 "metadata": {
  "kernelspec": {
   "display_name": "Python 3",
   "language": "python",
   "name": "python3"
  },
  "language_info": {
   "codemirror_mode": {
    "name": "ipython",
    "version": 3
   },
   "file_extension": ".py",
   "mimetype": "text/x-python",
   "name": "python",
   "nbconvert_exporter": "python",
   "pygments_lexer": "ipython3",
   "version": "3.6.8"
  }
 },
 "nbformat": 4,
 "nbformat_minor": 4
}
