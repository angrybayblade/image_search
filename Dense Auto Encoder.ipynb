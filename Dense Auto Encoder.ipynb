{
 "cells": [
  {
   "cell_type": "code",
   "execution_count": 1,
   "metadata": {},
   "outputs": [],
   "source": [
    "import pandas as pd\n",
    "import numpy as np\n",
    "import matplotlib.pyplot as plt\n",
    "\n",
    "%matplotlib inline"
   ]
  },
  {
   "cell_type": "code",
   "execution_count": 2,
   "metadata": {},
   "outputs": [],
   "source": [
    "import tensorflow as tf"
   ]
  },
  {
   "cell_type": "code",
   "execution_count": 3,
   "metadata": {},
   "outputs": [],
   "source": [
    "images_1 = pd.read_csv(\"./train.csv\")\n",
    "images_2 = pd.read_csv(\"./test.csv\")\n",
    "\n",
    "images_1.pop(\"label\");\n",
    "\n",
    "images_1 = images_1.values / 255\n",
    "images_2 = images_2.values / 255"
   ]
  },
  {
   "cell_type": "code",
   "execution_count": 4,
   "metadata": {},
   "outputs": [],
   "source": [
    "images = np.concatenate([images_1,images_2])\n",
    "del images_1,images_2"
   ]
  },
  {
   "cell_type": "markdown",
   "metadata": {},
   "source": [
    "### Dense Auto Encoder"
   ]
  },
  {
   "cell_type": "code",
   "execution_count": 5,
   "metadata": {},
   "outputs": [],
   "source": [
    "input_image = tf.keras.layers.Input(shape=(784,))\n",
    "encode = tf.keras.layers.Dense(128,activation=\"relu\")(input_image)\n",
    "encode = tf.keras.layers.Dense(128,activation=\"relu\")(encode)\n",
    "encode = tf.keras.layers.Dense(256,activation=\"relu\")(encode)\n",
    "encode = tf.keras.layers.Dense(64,activation=\"sigmoid\")(encode)\n",
    "\n",
    "neck = tf.keras.layers.Dense(32,activation=\"relu\")(encode)\n",
    "\n",
    "decode = tf.keras.layers.Dense(64,activation=\"sigmoid\")(neck)\n",
    "decode = tf.keras.layers.Dense(128,activation=\"relu\")(decode)\n",
    "decode = tf.keras.layers.Dense(128,activation=\"relu\")(decode)\n",
    "decode = tf.keras.layers.Dense(784,activation=\"sigmoid\")(decode)\n",
    "\n",
    "autoencode = tf.keras.models.Model(input_image,decode)\n",
    "encoder = tf.keras.models.Model(input_image,neck)"
   ]
  },
  {
   "cell_type": "code",
   "execution_count": 6,
   "metadata": {},
   "outputs": [
    {
     "data": {
      "text/plain": [
       "<tensorflow.python.training.tracking.util.CheckpointLoadStatus at 0x20a64266a20>"
      ]
     },
     "execution_count": 6,
     "metadata": {},
     "output_type": "execute_result"
    }
   ],
   "source": [
    "autoencode.load_weights(\"weights/models/dense_autoencoder/dense_autoencoder\")"
   ]
  },
  {
   "cell_type": "code",
   "execution_count": 154,
   "metadata": {},
   "outputs": [],
   "source": [
    "autoencode.compile(optimizer=\"adam\",loss='mae')"
   ]
  },
  {
   "cell_type": "code",
   "execution_count": 155,
   "metadata": {},
   "outputs": [
    {
     "name": "stdout",
     "output_type": "stream",
     "text": [
      "Train on 70000 samples\n",
      "Epoch 1/50\n",
      "70000/70000 [==============================] - 3s 37us/sample - loss: 0.1367\n",
      "Epoch 2/50\n",
      "70000/70000 [==============================] - 2s 29us/sample - loss: 0.1198\n",
      "Epoch 3/50\n",
      "70000/70000 [==============================] - 2s 29us/sample - loss: 0.1058\n",
      "Epoch 4/50\n",
      "70000/70000 [==============================] - 2s 29us/sample - loss: 0.0947\n",
      "Epoch 5/50\n",
      "70000/70000 [==============================] - 2s 29us/sample - loss: 0.0874\n",
      "Epoch 6/50\n",
      "70000/70000 [==============================] - 2s 29us/sample - loss: 0.0829\n",
      "Epoch 7/50\n",
      "70000/70000 [==============================] - 2s 29us/sample - loss: 0.0781\n",
      "Epoch 8/50\n",
      "70000/70000 [==============================] - 2s 28us/sample - loss: 0.0709\n",
      "Epoch 9/50\n",
      "70000/70000 [==============================] - 2s 27us/sample - loss: 0.0672\n",
      "Epoch 10/50\n",
      "70000/70000 [==============================] - 2s 28us/sample - loss: 0.0650\n",
      "Epoch 11/50\n",
      "70000/70000 [==============================] - 2s 28us/sample - loss: 0.0630\n",
      "Epoch 12/50\n",
      "70000/70000 [==============================] - 2s 28us/sample - loss: 0.0612\n",
      "Epoch 13/50\n",
      "70000/70000 [==============================] - 2s 29us/sample - loss: 0.0598\n",
      "Epoch 14/50\n",
      "70000/70000 [==============================] - 2s 28us/sample - loss: 0.0586\n",
      "Epoch 15/50\n",
      "70000/70000 [==============================] - 2s 28us/sample - loss: 0.0576\n",
      "Epoch 16/50\n",
      "70000/70000 [==============================] - 2s 28us/sample - loss: 0.0568\n",
      "Epoch 17/50\n",
      "70000/70000 [==============================] - 2s 28us/sample - loss: 0.0558\n",
      "Epoch 18/50\n",
      "70000/70000 [==============================] - 2s 29us/sample - loss: 0.0550\n",
      "Epoch 19/50\n",
      "70000/70000 [==============================] - 2s 28us/sample - loss: 0.0540\n",
      "Epoch 20/50\n",
      "70000/70000 [==============================] - 2s 30us/sample - loss: 0.0531\n",
      "Epoch 21/50\n",
      "70000/70000 [==============================] - 2s 28us/sample - loss: 0.0524\n",
      "Epoch 22/50\n",
      "70000/70000 [==============================] - 2s 28us/sample - loss: 0.0517\n",
      "Epoch 23/50\n",
      "70000/70000 [==============================] - 2s 29us/sample - loss: 0.0511\n",
      "Epoch 24/50\n",
      "70000/70000 [==============================] - 2s 28us/sample - loss: 0.0506\n",
      "Epoch 25/50\n",
      "70000/70000 [==============================] - 2s 29us/sample - loss: 0.0500\n",
      "Epoch 26/50\n",
      "70000/70000 [==============================] - 2s 28us/sample - loss: 0.0494\n",
      "Epoch 27/50\n",
      "70000/70000 [==============================] - 2s 28us/sample - loss: 0.0486\n",
      "Epoch 28/50\n",
      "70000/70000 [==============================] - 2s 29us/sample - loss: 0.0479\n",
      "Epoch 29/50\n",
      "70000/70000 [==============================] - 2s 28us/sample - loss: 0.0473\n",
      "Epoch 30/50\n",
      "70000/70000 [==============================] - 2s 28us/sample - loss: 0.0468\n",
      "Epoch 31/50\n",
      "70000/70000 [==============================] - 2s 28us/sample - loss: 0.0462\n",
      "Epoch 32/50\n",
      "70000/70000 [==============================] - 2s 28us/sample - loss: 0.0458\n",
      "Epoch 33/50\n",
      "70000/70000 [==============================] - 2s 29us/sample - loss: 0.0454\n",
      "Epoch 34/50\n",
      "70000/70000 [==============================] - 2s 28us/sample - loss: 0.0450\n",
      "Epoch 35/50\n",
      "70000/70000 [==============================] - 2s 28us/sample - loss: 0.0447\n",
      "Epoch 36/50\n",
      "70000/70000 [==============================] - 2s 28us/sample - loss: 0.0442\n",
      "Epoch 37/50\n",
      "70000/70000 [==============================] - 2s 28us/sample - loss: 0.0439\n",
      "Epoch 38/50\n",
      "70000/70000 [==============================] - 2s 29us/sample - loss: 0.0436\n",
      "Epoch 39/50\n",
      "70000/70000 [==============================] - 2s 28us/sample - loss: 0.0433\n",
      "Epoch 40/50\n",
      "70000/70000 [==============================] - 2s 29us/sample - loss: 0.0431\n",
      "Epoch 41/50\n",
      "70000/70000 [==============================] - 2s 28us/sample - loss: 0.0428\n",
      "Epoch 42/50\n",
      "70000/70000 [==============================] - 2s 29us/sample - loss: 0.0425\n",
      "Epoch 43/50\n",
      "70000/70000 [==============================] - 2s 29us/sample - loss: 0.0422\n",
      "Epoch 44/50\n",
      "70000/70000 [==============================] - 2s 29us/sample - loss: 0.0420\n",
      "Epoch 45/50\n",
      "70000/70000 [==============================] - 2s 28us/sample - loss: 0.0418\n",
      "Epoch 46/50\n",
      "70000/70000 [==============================] - 2s 29us/sample - loss: 0.0416\n",
      "Epoch 47/50\n",
      "70000/70000 [==============================] - 2s 28us/sample - loss: 0.0413\n",
      "Epoch 48/50\n",
      "70000/70000 [==============================] - 2s 29us/sample - loss: 0.0411\n",
      "Epoch 49/50\n",
      "70000/70000 [==============================] - 2s 28us/sample - loss: 0.0408\n",
      "Epoch 50/50\n",
      "70000/70000 [==============================] - 2s 29us/sample - loss: 0.0406\n"
     ]
    },
    {
     "data": {
      "text/plain": [
       "<tensorflow.python.keras.callbacks.History at 0x21d9ce860f0>"
      ]
     },
     "execution_count": 155,
     "metadata": {},
     "output_type": "execute_result"
    }
   ],
   "source": [
    "autoencode.fit(images,images,batch_size=150,epochs=50)"
   ]
  },
  {
   "cell_type": "code",
   "execution_count": 7,
   "metadata": {},
   "outputs": [
    {
     "data": {
      "text/plain": [
       "(-0.5, 27.5, 27.5, -0.5)"
      ]
     },
     "execution_count": 7,
     "metadata": {},
     "output_type": "execute_result"
    },
    {
     "data": {
      "image/png": "[encoded data removed]",
      "text/plain": [
       "<Figure size 720x360 with 2 Axes>"
      ]
     },
     "metadata": {
      "needs_background": "light"
     },
     "output_type": "display_data"
    }
   ],
   "source": [
    "i = 8\n",
    "\n",
    "img = images[i:i+1]\n",
    "fig,axes = plt.subplots(1,2,figsize=(10,5))\n",
    "\n",
    "axes[0].imshow(img.reshape(28,28))\n",
    "axes[0].set_title(\"Original\")\n",
    "axes[0].axis(\"off\")\n",
    "\n",
    "axes[1].imshow(autoencode.predict(img).reshape(28,28))\n",
    "axes[1].set_title(\"Re Constructed\")\n",
    "axes[1].axis(\"off\")"
   ]
  },
  {
   "cell_type": "code",
   "execution_count": 157,
   "metadata": {},
   "outputs": [
    {
     "data": {
      "text/plain": [
       "array([[0.       , 0.       , 3.3480325, 2.0992312, 0.       , 1.0442941,\n",
       "        2.5370536, 2.6857421, 1.2939036, 0.6600441, 1.2663218, 2.5296257,\n",
       "        2.032893 , 1.499196 , 0.       , 1.6799028, 2.9169445, 0.9479513,\n",
       "        1.6226444, 1.5662105, 2.6184146, 2.513892 , 2.1914182, 0.       ,\n",
       "        1.1831197, 2.8146615, 1.3453965, 0.572149 , 2.3378417, 2.5802386,\n",
       "        2.3631284, 0.5554152]], dtype=float32)"
      ]
     },
     "execution_count": 157,
     "metadata": {},
     "output_type": "execute_result"
    }
   ],
   "source": [
    "encoder.predict(img)"
   ]
  },
  {
   "cell_type": "code",
   "execution_count": 167,
   "metadata": {},
   "outputs": [],
   "source": [
    "autoencode.save_weights(\"weights/models/dense_autoencoder/dense_autoencoder\")\n",
    "encoder.save_weights(\"weights/models/dense_autoencoder/dense_encoder\")"
   ]
  }
 ],
 "metadata": {
  "kernelspec": {
   "display_name": "Python 3",
   "language": "python",
   "name": "python3"
  },
  "language_info": {
   "codemirror_mode": {
    "name": "ipython",
    "version": 3
   },
   "file_extension": ".py",
   "mimetype": "text/x-python",
   "name": "python",
   "nbconvert_exporter": "python",
   "pygments_lexer": "ipython3",
   "version": "3.6.8"
  }
 },
 "nbformat": 4,
 "nbformat_minor": 4
}
